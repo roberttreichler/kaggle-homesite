{
 "cells": [
  {
   "cell_type": "markdown",
   "metadata": {},
   "source": [
    "*************************************************************************************\n",
    "                           Working Directory\n",
    "*************************************************************************************"
   ]
  },
  {
   "cell_type": "code",
   "execution_count": 1,
   "metadata": {
    "collapsed": true
   },
   "outputs": [],
   "source": [
    "import os#Miscellaneous operating system interfaces\n",
    "os.chdir(r'C:\\\\Users\\\\rtreichl\\\\Documents\\\\competitions\\\\homesite')  #working directory"
   ]
  },
  {
   "cell_type": "markdown",
   "metadata": {},
   "source": [
    "*************************************************************************************\n",
    "                               Packages\n",
    "*************************************************************************************"
   ]
  },
  {
   "cell_type": "code",
   "execution_count": 2,
   "metadata": {
    "collapsed": true
   },
   "outputs": [],
   "source": [
    "%matplotlib inline"
   ]
  },
  {
   "cell_type": "code",
   "execution_count": 3,
   "metadata": {
    "collapsed": true
   },
   "outputs": [],
   "source": [
    "# import packages for text processing and machine learning\n",
    "import pandas as pd  # DataFrame structure and operations\n",
    "import numpy as np  # arrays and numerical processing\n",
    "import matplotlib.pyplot as plt\n",
    "\n",
    "#import packages for graphics\n",
    "from pandas.tools.plotting import scatter_matrix\n",
    "\n",
    "#preprocessing\n",
    "from sklearn import preprocessing\n",
    "from sklearn.preprocessing import StandardScaler\n",
    "\n",
    "#model selection\n",
    "from sklearn.metrics import roc_auc_score\n",
    "from sklearn.metrics import roc_curve\n",
    "from sklearn.cross_validation import cross_val_score\n",
    "from sklearn import cross_validation\n",
    "from sklearn.grid_search import RandomizedSearchCV\n",
    "from sklearn.grid_search import GridSearchCV\n",
    "from sklearn import metrics\n",
    "\n",
    "\n",
    "#Dimensionality Reduction\n",
    "from sklearn.decomposition import PCA as pca_using_svd\n",
    "\n",
    "#Ensemble methods\n",
    "from sklearn.ensemble import RandomForestClassifier  # random forests\n",
    "\n",
    "#xgboost\n",
    "import xgboost as xgb #xgboost"
   ]
  },
  {
   "cell_type": "markdown",
   "metadata": {},
   "source": [
    "*******************************************************************************\n",
    "                                    Import Data and Preprocessing\n",
    "*******************************************************************************"
   ]
  },
  {
   "cell_type": "code",
   "execution_count": 4,
   "metadata": {
    "collapsed": false
   },
   "outputs": [],
   "source": [
    "# read in comma-delimited text file and create data frame\n",
    "\n",
    "homesite_df = pd.read_csv(\"train.csv\")\n",
    "test_df     = pd.read_csv(\"test.csv\")"
   ]
  },
  {
   "cell_type": "code",
   "execution_count": 5,
   "metadata": {
    "collapsed": false
   },
   "outputs": [],
   "source": [
    "# date imputation\n",
    "\n",
    "# Convert Date to Year, Month, and Week\n",
    "homesite_df['Year']  = homesite_df['Original_Quote_Date'].apply(lambda x: int(str(x)[:4]))\n",
    "homesite_df['Month'] = homesite_df['Original_Quote_Date'].apply(lambda x: int(str(x)[5:7]))\n",
    "homesite_df['Week']  = homesite_df['Original_Quote_Date'].apply(lambda x: int(str(x)[8:10]))\n",
    "homesite_df['dayofweek']=pd.to_datetime(homesite_df['Original_Quote_Date'])\n",
    "homesite_df['dayofweek']=homesite_df['dayofweek'].dt.dayofweek\n",
    "\n",
    "\n",
    "test_df['Year']  = test_df['Original_Quote_Date'].apply(lambda x: int(str(x)[:4]))\n",
    "test_df['Month'] = test_df['Original_Quote_Date'].apply(lambda x: int(str(x)[5:7]))\n",
    "test_df['Week']  = test_df['Original_Quote_Date'].apply(lambda x: int(str(x)[8:10]))\n",
    "test_df['dayofweek']=pd.to_datetime(test_df['Original_Quote_Date'])\n",
    "test_df['dayofweek']=test_df['dayofweek'].dt.dayofweek"
   ]
  },
  {
   "cell_type": "code",
   "execution_count": 6,
   "metadata": {
    "collapsed": true
   },
   "outputs": [],
   "source": [
    "# drop quote date as its no longer needed\n",
    "homesite_df.drop(['Original_Quote_Date'], axis=1,inplace=True)\n",
    "test_df.drop(['Original_Quote_Date'], axis=1,inplace=True)"
   ]
  },
  {
   "cell_type": "code",
   "execution_count": 7,
   "metadata": {
    "collapsed": true
   },
   "outputs": [],
   "source": [
    "#  Encoding categorical features\n",
    "# creating indicator variables (and leaving 1 out) will prove erroneous given the number of variables and anonimity\n",
    "\n",
    "for f in homesite_df.columns:\n",
    "    if homesite_df[f].dtype=='object':\n",
    "        lbl = preprocessing.LabelEncoder()\n",
    "        lbl.fit(np.unique(list(homesite_df[f].values) + list(test_df[f].values)))\n",
    "        homesite_df[f] = lbl.transform(list(homesite_df[f].values))\n",
    "        test_df[f] = lbl.transform(list(test_df[f].values))"
   ]
  },
  {
   "cell_type": "code",
   "execution_count": 8,
   "metadata": {
    "collapsed": true
   },
   "outputs": [],
   "source": [
    "#   -1 defines missing value\n",
    "#  Imputation of missing values\n",
    "\n",
    "homesite_df.fillna(-1, inplace=True)\n",
    "test_df.fillna(-1, inplace=True)"
   ]
  },
  {
   "cell_type": "code",
   "execution_count": 9,
   "metadata": {
    "collapsed": true
   },
   "outputs": [],
   "source": [
    "# Variable PropertyField6 and GeographicField10A are all zeros\n",
    "\n",
    "homesite_df = homesite_df.drop(['PropertyField6'], axis=1)\n",
    "test_df = test_df.drop(['PropertyField6'], axis=1)\n",
    "homesite_df = homesite_df.drop(['GeographicField10A'], axis=1)\n",
    "test_df = test_df.drop(['GeographicField10A'], axis=1)"
   ]
  },
  {
   "cell_type": "code",
   "execution_count": 10,
   "metadata": {
    "collapsed": true
   },
   "outputs": [],
   "source": [
    "# create missing value indicator values\n",
    "\n",
    "#list of variables with missing values\n",
    "missingdata_list=['CoverageField1A','CoverageField1B','CoverageField11A',\n",
    "'CoverageField11B','SalesField2A','SalesField2B','PersonalField4A',\n",
    "'PersonalField4B','PersonalField10A','PersonalField10B','PersonalField84','PropertyField1A',\n",
    "'PropertyField1B','PropertyField2A','PropertyField11A','PropertyField16A',\n",
    "'PropertyField16B','PropertyField21A','PropertyField21B','PropertyField24A',\n",
    "'PropertyField24B','PropertyField26A','PropertyField26B','PropertyField29',\n",
    "'PropertyField39A','PropertyField39B','GeographicField1A','GeographicField1B','GeographicField2A','GeographicField2B',\n",
    "'GeographicField5A','GeographicField5B','GeographicField6A','GeographicField6B',\n",
    "'GeographicField7A','GeographicField7B','GeographicField8A','GeographicField8B',\n",
    "'GeographicField9A','GeographicField9B','GeographicField10B','GeographicField11A',\n",
    "'GeographicField11B','GeographicField12A','GeographicField12B','GeographicField13A',\n",
    "'GeographicField13B','GeographicField14A','GeographicField14B','GeographicField15A',\n",
    "'GeographicField15B','GeographicField16A','GeographicField16B','GeographicField17A',\n",
    "'GeographicField17B','GeographicField18A','GeographicField18B','GeographicField19A',\n",
    "'GeographicField19B','GeographicField20A','GeographicField20B','GeographicField21A',\n",
    "'GeographicField21B','GeographicField22A','GeographicField22B','GeographicField23A',\n",
    "'GeographicField23B','GeographicField24A','GeographicField24B','GeographicField25A',\n",
    "'GeographicField25B','GeographicField26A','GeographicField26B','GeographicField27A',\n",
    "'GeographicField27B','GeographicField28A','GeographicField28B','GeographicField29A',\n",
    "'GeographicField29B','GeographicField30A','GeographicField30B','GeographicField31A',\n",
    "'GeographicField31B','GeographicField32A','GeographicField32B','GeographicField33A',\n",
    "'GeographicField33B','GeographicField34A','GeographicField34B','GeographicField35A',\n",
    "'GeographicField35B','GeographicField36A','GeographicField36B','GeographicField37A',\n",
    "'GeographicField37B','GeographicField38A','GeographicField38B','GeographicField39A',\n",
    "'GeographicField39B','GeographicField40A','GeographicField40B','GeographicField41A','GeographicField41B',\n",
    "                  'GeographicField42A','GeographicField42B','GeographicField43A','GeographicField43B',\n",
    "                  'GeographicField44A','GeographicField44B','GeographicField45A','GeographicField45B','GeographicField46A',\n",
    "                  'GeographicField46B','GeographicField47A','GeographicField47B','GeographicField48A','GeographicField48B',\n",
    "                  'GeographicField49A','GeographicField49B','GeographicField50A','GeographicField50B','GeographicField51A',\n",
    "                  'GeographicField51B','GeographicField52A','GeographicField52B','GeographicField53A','GeographicField53B',\n",
    "                  'GeographicField54A','GeographicField54B','GeographicField55A','GeographicField55B','GeographicField56A',\n",
    "                  'GeographicField56B','GeographicField57A','GeographicField57B','GeographicField58A','GeographicField58B',\n",
    "                  'GeographicField59A','GeographicField59B','GeographicField60A','GeographicField60B','GeographicField61A',\n",
    "                  'GeographicField61B','GeographicField62A','GeographicField62B']\n",
    "\n",
    "#create new variables, same variable name concatenated with \"_missing\"\n",
    "for i in missingdata_list:\n",
    "    homesite_df[str(i)+\"_missing\"]= np.where(homesite_df[i] == -1,-1,0)\n",
    "    test_df[str(i)+\"_missing\"]= np.where(test_df[i] == -1,-1,0)\n",
    "    \n",
    "#Once the missing variables flags are created, set missing values to zero.\n",
    "#change -1 to Zero\n",
    "#for i in missingdata_list:\n",
    "#    homesite_df[i]=np.where(homesite_df[i] == -1,0,homesite_df[i])\n",
    "#    test_df[i]=np.where(test_df[i] == -1,0,test_df[i])"
   ]
  },
  {
   "cell_type": "code",
   "execution_count": 11,
   "metadata": {
    "collapsed": false
   },
   "outputs": [],
   "source": [
    "#create train and kaggle test sets\n",
    "\n",
    "#training predictors\n",
    "x_train = homesite_df.drop('QuoteConversion_Flag',axis=1)\n",
    "x_train = x_train.drop('QuoteNumber',axis=1)\n",
    "\n",
    "#Train Response\n",
    "y_train = homesite_df['QuoteConversion_Flag'].astype('float64')\n",
    "\n",
    "#kaggle test predictors\n",
    "x_test  = test_df.drop(['QuoteNumber'], axis=1)\n",
    "\n",
    "#quote number\n",
    "y_quote_num = test_df['QuoteNumber'].astype('float64')\n",
    "\n",
    "#column names\n",
    "names = homesite_df.columns[1:443]"
   ]
  },
  {
   "cell_type": "code",
   "execution_count": 12,
   "metadata": {
    "collapsed": false
   },
   "outputs": [],
   "source": [
    "#linear model perform better when all variables are on the same scale\n",
    "#linear models assume all multi-variate data is multivariant normal\n",
    "#pca performs better when data are standardized.\n",
    "\n",
    "std_scale = preprocessing.StandardScaler().fit(x_train)\n",
    "x_train = std_scale.transform(x_train)\n",
    "x_test = std_scale.transform(x_test)"
   ]
  },
  {
   "cell_type": "markdown",
   "metadata": {},
   "source": [
    "\n",
    "*******************************************************************************\n",
    "                       Dimension Reduction\n",
    "*******************************************************************************\n"
   ]
  },
  {
   "cell_type": "code",
   "execution_count": 13,
   "metadata": {
    "collapsed": false
   },
   "outputs": [],
   "source": [
    "################################\n",
    "#    PCA\n",
    "###############################\n",
    "\n",
    "#pca\n",
    "pca_estimator  = pca_using_svd(whiten=True)\n",
    "x_train_pca = pca_estimator.fit_transform(x_train)\n",
    "x_test_pca  = pca_estimator.transform(x_test)"
   ]
  },
  {
   "cell_type": "code",
   "execution_count": 14,
   "metadata": {
    "collapsed": false,
    "scrolled": true
   },
   "outputs": [
    {
     "name": "stderr",
     "output_type": "stream",
     "text": [
      "C:\\Users\\rtreichl\\AppData\\Local\\Continuum\\Anaconda3\\lib\\site-packages\\matplotlib\\axes\\_axes.py:519: UserWarning: No labelled objects found. Use label='...' kwarg on individual plots.\n",
      "  warnings.warn(\"No labelled objects found. \"\n"
     ]
    },
    {
     "data": {
      "image/png": "[encoded data removed]",
      "text/plain": [
       "<matplotlib.figure.Figure at 0xa339358>"
      ]
     },
     "metadata": {},
     "output_type": "display_data"
    }
   ],
   "source": [
    "#Identify Number of components to model\n",
    "ex_var=pca_estimator.explained_variance_ratio_[:250]\n",
    "ex_var_all=pd.DataFrame(pca_estimator.explained_variance_ratio_)\n",
    "ex_var_all.to_csv(\"ex_var_all.csv\")\n",
    "plt.plot(ex_var)\n",
    "plt.xlabel('Component')\n",
    "plt.ylabel('Explained Variance in %')\n",
    "plt.title('Explained Variance by Component')\n",
    "plt.legend(loc='best')"
   ]
  },
  {
   "cell_type": "markdown",
   "metadata": {},
   "source": [
    "************************************************************\n",
    "          Classification using Cross Validation\n",
    "************************************************************"
   ]
  },
  {
   "cell_type": "code",
   "execution_count": 15,
   "metadata": {
    "collapsed": false
   },
   "outputs": [],
   "source": [
    "#pca training and test sets\n",
    "x_traincv_pca, x_testcv_pca, y_traincv_pca, y_testcv_pca = cross_validation.train_test_split(x_train_pca, \n",
    "                                                                             y_train, test_size=0.4, random_state=0)"
   ]
  },
  {
   "cell_type": "code",
   "execution_count": 16,
   "metadata": {
    "collapsed": true
   },
   "outputs": [],
   "source": [
    "#scaled feature training and test sets\n",
    "x_traincv, x_testcv, y_traincv, y_testcv = cross_validation.train_test_split(x_train, \n",
    "                                                                             y_train, test_size=0.4, random_state=0)"
   ]
  },
  {
   "cell_type": "markdown",
   "metadata": {
    "collapsed": true
   },
   "source": [
    "\n",
    "****************************************************************************\n",
    "                         Classification Models\n",
    "****************************************************************************\n"
   ]
  },
  {
   "cell_type": "markdown",
   "metadata": {},
   "source": [
    "**************************************\n",
    "eXtreme Gradient Boosting\n",
    "**************************************"
   ]
  },
  {
   "cell_type": "code",
   "execution_count": null,
   "metadata": {
    "collapsed": false,
    "scrolled": true
   },
   "outputs": [],
   "source": [
    "#Determine appropriate number of components using default parameters\n",
    "#xgb\n",
    "#subsample [default=1]\n",
    "#subsample ratio of the training instance. Setting it to 0.5 means that XGBoost randomly collected \n",
    "#half of the data instances to grow trees and this will prevent overfitting.\n",
    "\n",
    "for i in range(len(x_traincv_pca[0])):\n",
    "    i=150+i\n",
    "    #xgb parameters\n",
    "    params = {'objective':'binary:logistic','eval_metric' : 'auc',}#'eta': 0.2 ,'max_depth':12 }\n",
    "    \n",
    "    #train input matrix\n",
    "    xgb_train_data = xgb.DMatrix(x_traincv_pca[:,0:i], y_traincv_pca)\n",
    "    xgb_test_data  = xgb.DMatrix(x_testcv_pca[:,0:i])\n",
    "\n",
    "    xgb_estimator = xgb.train(params, xgb_train_data)#, num_boost_round= 400)\n",
    "\n",
    "    train_pred=xgb_estimator.predict(xgb_train_data)\n",
    "    test_pred =xgb_estimator.predict(xgb_test_data)\n",
    "\n",
    "    xgb_train_auc=roc_auc_score(y_traincv_pca, train_pred)\n",
    "    xgb_test_auc =roc_auc_score(y_testcv_pca, test_pred)\n",
    "\n",
    "    print(str(i) + 'components:  ' +'xgb train set auc-> ' + str(xgb_train_auc) + ' ///  ' + 'xgb test set auc-> ' + str(xgb_test_auc))\n"
   ]
  },
  {
   "cell_type": "markdown",
   "metadata": {},
   "source": [
    "Output:\n",
    "\n",
    "#150components:  xgb train set auc-> 0.888928338955 ///  xgb test set auc-> 0.878314956541\n",
    "#151components:  xgb train set auc-> 0.88892860142 ///  xgb test set auc-> 0.878315499766\n",
    "#152components:  xgb train set auc-> 0.888308300474 ///  xgb test set auc-> 0.878000635528\n",
    "#153components:  xgb train set auc-> 0.888308300474 ///  xgb test set auc-> 0.878000635528\n",
    "#154components:  xgb train set auc-> 0.891606581989 ///  xgb test set auc-> 0.880798590684\n",
    "#155components:  xgb train set auc-> 0.893195143367 ///  xgb test set auc-> 0.883562943132\n",
    "#156components:  xgb train set auc-> 0.893195143367 ///  xgb test set auc-> 0.883562943132\n",
    "#157components:  xgb train set auc-> 0.893199116934 ///  xgb test set auc-> 0.883562977536\n",
    "#158components:  xgb train set auc-> 0.893219039732 ///  xgb test set auc-> 0.883573743356\n",
    "#159components:  xgb train set auc-> 0.902566525502 ///  xgb test set auc-> 0.894667616541\n",
    "#160components:  xgb train set auc-> 0.906920194652 ///  xgb test set auc-> 0.899459815088\n",
    "#161components:  xgb train set auc-> 0.906920194652 ///  xgb test set auc-> 0.899459815088\n",
    "#162components:  xgb train set auc-> 0.908241134781 ///  xgb test set auc-> 0.900161135528\n",
    "#163components:  xgb train set auc-> 0.913513480759 ///  xgb test set auc-> 0.905538143556\n",
    "#164components:  xgb train set auc-> 0.912668827195 ///  xgb test set auc-> 0.904856064156\n",
    "#165components:  xgb train set auc-> 0.912668827195 ///  xgb test set auc-> 0.904856064156\n",
    "#166components:  xgb train set auc-> 0.912646930147 ///  xgb test set auc-> 0.904763331073\n",
    "#167components:  xgb train set auc-> 0.913624087574 ///  xgb test set auc-> 0.90556145969\n",
    "#168components:  xgb train set auc-> 0.913661700609 ///  xgb test set auc-> 0.905572937739\n",
    "#169components:  xgb train set auc-> 0.913164071148 ///  xgb test set auc-> 0.905469938905\n",
    "#170components:  xgb train set auc-> 0.913547115133 ///  xgb test set auc-> 0.90628238181\n",
    "#171components:  xgb train set auc-> 0.913547115133 ///  xgb test set auc-> 0.90628238181\n",
    "#172components:  xgb train set auc-> 0.913395592488 ///  xgb test set auc-> 0.905644482621\n",
    "#173components:  xgb train set auc-> 0.913395592488 ///  xgb test set auc-> 0.905644482621\n",
    "#174components:  xgb train set auc-> 0.914835472758 ///  xgb test set auc-> 0.907612254644\n",
    "#175components:  xgb train set auc-> 0.922553948878 ///  xgb test set auc-> 0.915979759201\n",
    "#176components:  xgb train set auc-> 0.922553948878 ///  xgb test set auc-> 0.915979759201\n",
    "#177components:  xgb train set auc-> 0.921227496317 ///  xgb test set auc-> 0.915647525334\n",
    "#178components:  xgb train set auc-> 0.923018105895 ///  xgb test set auc-> 0.916376725906\n",
    "#179components:  xgb train set auc-> 0.923018105895 ///  xgb test set auc-> 0.916376725906\n",
    "#180components:  xgb train set auc-> 0.923027568302 ///  xgb test set auc-> 0.916381724484\n",
    "#181components:  xgb train set auc-> 0.923044349564 ///  xgb test set auc-> 0.916355169519\n",
    "#182components:  xgb train set auc-> 0.922395847052 ///  xgb test set auc-> 0.916230382222\n",
    "#183components:  xgb train set auc-> 0.922395847052 ///  xgb test set auc-> 0.916230382222\n",
    "#184components:  xgb train set auc-> 0.924980888927 ///  xgb test set auc-> 0.919112161566\n",
    "#185components:  xgb train set auc-> 0.924980888927 ///  xgb test set auc-> 0.919112161566\n",
    "#186components:  xgb train set auc-> 0.924982007552 ///  xgb test set auc-> 0.919116388463\n",
    "#187components:  xgb train set auc-> 0.924982007552 ///  xgb test set auc-> 0.919116388463\n",
    "#188components:  xgb train set auc-> 0.924982007552 ///  xgb test set auc-> 0.919116388463\n",
    "#189components:  xgb train set auc-> 0.924982023906 ///  xgb test set auc-> 0.919115209664\n",
    "#190components:  xgb train set auc-> 0.923794273292 ///  xgb test set auc-> 0.917814030291\n",
    "#191components:  xgb train set auc-> 0.923794273292 ///  xgb test set auc-> 0.917814030291\n",
    "#192components:  xgb train set auc-> 0.926545294557 ///  xgb test set auc-> 0.920636707329\n",
    "#193components:  xgb train set auc-> 0.926554233777 ///  xgb test set auc-> 0.920605603758\n",
    "#194components:  xgb train set auc-> 0.926554233777 ///  xgb test set auc-> 0.920605603758\n",
    "#195components:  xgb train set auc-> 0.927471728173 ///  xgb test set auc-> 0.922175708618\n",
    "#196components:  xgb train set auc-> 0.927471728173 ///  xgb test set auc-> 0.922175708618\n",
    "#197components:  xgb train set auc-> 0.927471728173 ///  xgb test set auc-> 0.922175708618\n",
    "#198components:  xgb train set auc-> 0.927471728173 ///  xgb test set auc-> 0.922175708618\n",
    "#199components:  xgb train set auc-> 0.927461394859 ///  xgb test set auc-> 0.922067786654\n",
    "#200components:  xgb train set auc-> 0.927461394859 ///  xgb test set auc-> 0.922067786654\n",
    "#201components:  xgb train set auc-> 0.927437029998 ///  xgb test set auc-> 0.922000193132\n",
    "#202components:  xgb train set auc-> 0.927437029998 ///  xgb test set auc-> 0.922000193132\n",
    "#203components:  xgb train set auc-> 0.927594603276 ///  xgb test set auc-> 0.922115496622\n",
    "#204components:  xgb train set auc-> 0.927671751453 ///  xgb test set auc-> 0.922418931702\n",
    "#205components:  xgb train set auc-> 0.927671751453 ///  xgb test set auc-> 0.922418931702\n",
    "#206components:  xgb train set auc-> 0.927671751453 ///  xgb test set auc-> 0.922418931702\n",
    "#207components:  xgb train set auc-> 0.927671751453 ///  xgb test set auc-> 0.922418931702\n",
    "#208components:  xgb train set auc-> 0.927671751453 ///  xgb test set auc-> 0.922418931702\n",
    "#209components:  xgb train set auc-> 0.927671751453 ///  xgb test set auc-> 0.922418931702\n",
    "#210components:  xgb train set auc-> 0.927671751453 ///  xgb test set auc-> 0.922418931702\n",
    "#211components:  xgb train set auc-> 0.927671751453 ///  xgb test set auc-> 0.922418931702\n",
    "#212components:  xgb train set auc-> 0.927702247777 ///  xgb test set auc-> 0.922473096695\n",
    "#212components:  xgb train set auc-> 0.927702247777 ///  xgb test set auc-> 0.922473096695\n",
    "#213components:  xgb train set auc-> 0.927702247777 ///  xgb test set auc-> 0.922473096695\n",
    "#214components:  xgb train set auc-> 0.927702247777 ///  xgb test set auc-> 0.922473096695\n",
    "#215components:  xgb train set auc-> 0.927702247777 ///  xgb test set auc-> 0.922473096695\n",
    "#216components:  xgb train set auc-> 0.927702671232 ///  xgb test set auc-> 0.922470628642\n",
    "#217components:  xgb train set auc-> 0.927702671232 ///  xgb test set auc-> 0.922470628642\n",
    "#218components:  xgb train set auc-> 0.927702671232 ///  xgb test set auc-> 0.922470628642\n",
    "#219components:  xgb train set auc-> 0.927701407969 ///  xgb test set auc-> 0.922435929222\n",
    "#220components:  xgb train set auc-> 0.92779482508 ///  xgb test set auc-> 0.92244956146\n",
    "#221components:  xgb train set auc-> 0.933046283922 ///  xgb test set auc-> 0.928567708642\n",
    "#222components:  xgb train set auc-> 0.932434607989 ///  xgb test set auc-> 0.928096076226\n",
    "#223components:  xgb train set auc-> 0.933422789208 ///  xgb test set auc-> 0.928798301437\n",
    "#224components:  xgb train set auc-> 0.933995806938 ///  xgb test set auc-> 0.929929419005\n",
    "#225components:  xgb train set auc-> 0.934006591589 ///  xgb test set auc-> 0.929915805175\n",
    "#226components:  xgb train set auc-> 0.934006591589 ///  xgb test set auc-> 0.929915805175\n",
    "#227components:  xgb train set auc-> 0.934006591589 ///  xgb test set auc-> 0.929915805175\n",
    "#228components:  xgb train set auc-> 0.934006591589 ///  xgb test set auc-> 0.929915805175\n",
    "#229components:  xgb train set auc-> 0.934006591589 ///  xgb test set auc-> 0.929915805175\n",
    "#230components:  xgb train set auc-> 0.934006591589 ///  xgb test set auc-> 0.929915805175\n",
    "#231components:  xgb train set auc-> 0.934006591589 ///  xgb test set auc-> 0.929915805175\n",
    "#232components:  xgb train set auc-> 0.934006591589 ///  xgb test set auc-> 0.929915805175\n",
    "#233components:  xgb train set auc-> 0.934006591589 ///  xgb test set auc-> 0.929915805175\n",
    "#234components:  xgb train set auc-> 0.934006591589 ///  xgb test set auc-> 0.929915805175\n",
    "#235components:  xgb train set auc-> 0.934006591589 ///  xgb test set auc-> 0.929915805175\n",
    "#236components:  xgb train set auc-> 0.934006591589 ///  xgb test set auc-> 0.929915805175\n",
    "#237components:  xgb train set auc-> 0.934006624162 ///  xgb test set auc-> 0.929915150589\n",
    "#238components:  xgb train set auc-> 0.934041040837 ///  xgb test set auc-> 0.929868087663\n",
    "#239components:  xgb train set auc-> 0.934041040837 ///  xgb test set auc-> 0.929868087663\n",
    "#240components:  xgb train set auc-> 0.934041040837 ///  xgb test set auc-> 0.929868087663\n",
    "#241components:  xgb train set auc-> 0.934041040837 ///  xgb test set auc-> 0.929868087663\n",
    "#242components:  xgb train set auc-> 0.934041040837 ///  xgb test set auc-> 0.929868087663\n",
    "#243components:  xgb train set auc-> 0.934041040837 ///  xgb test set auc-> 0.929868087663\n",
    "#244components:  xgb train set auc-> 0.934041040837 ///  xgb test set auc-> 0.929868087663\n",
    "#245components:  xgb train set auc-> 0.934041040837 ///  xgb test set auc-> 0.929868087663\n",
    "#246components:  xgb train set auc-> 0.934041040837 ///  xgb test set auc-> 0.929868087663\n",
    "#247components:  xgb train set auc-> 0.934041040837 ///  xgb test set auc-> 0.929868087663\n",
    "#248components:  xgb train set auc-> 0.934041040837 ///  xgb test set auc-> 0.929868087663\n",
    "#249components:  xgb train set auc-> 0.934041040837 ///  xgb test set auc-> 0.929868087663\n",
    "#250components:  xgb train set auc-> 0.934041040837 ///  xgb test set auc-> 0.929868087663\n",
    "#251components:  xgb train set auc-> 0.934041040837 ///  xgb test set auc-> 0.929868087663\n",
    "#252components:  xgb train set auc-> 0.934041366036 ///  xgb test set auc-> 0.929868330002\n",
    "#253components:  xgb train set auc-> 0.933736118348 ///  xgb test set auc-> 0.929022625111\n",
    "#254components:  xgb train set auc-> 0.933365568386 ///  xgb test set auc-> 0.92952273913\n",
    "#255components:  xgb train set auc-> 0.933365568386 ///  xgb test set auc-> 0.92952273913\n",
    "#256components:  xgb train set auc-> 0.933365568386 ///  xgb test set auc-> 0.92952273913\n",
    "#257components:  xgb train set auc-> 0.933365568386 ///  xgb test set auc-> 0.92952273913\n",
    "#258components:  xgb train set auc-> 0.933365804712 ///  xgb test set auc-> 0.929522806732\n",
    "#259components:  xgb train set auc-> 0.933365963156 ///  xgb test set auc-> 0.929523971045\n",
    "#260components:  xgb train set auc-> 0.933394957479 ///  xgb test set auc-> 0.929547002891\n",
    "#261components:  xgb train set auc-> 0.933394957479 ///  xgb test set auc-> 0.929547002891\n",
    "#262components:  xgb train set auc-> 0.933394957479 ///  xgb test set auc-> 0.929547002891\n",
    "#263components:  xgb train set auc-> 0.933394957479 ///  xgb test set auc-> 0.929547002891\n",
    "#264components:  xgb train set auc-> 0.933392436047 ///  xgb test set auc-> 0.929613594464\n",
    "#265components:  xgb train set auc-> 0.933363886627 ///  xgb test set auc-> 0.929690865846\n",
    "#266components:  xgb train set auc-> 0.933363886627 ///  xgb test set auc-> 0.929690865846\n",
    "#267components:  xgb train set auc-> 0.933363886627 ///  xgb test set auc-> 0.929690865846\n",
    "#268components:  xgb train set auc-> 0.934281113866 ///  xgb test set auc-> 0.930146811123\n",
    "#269components:  xgb train set auc-> 0.935126919166 ///  xgb test set auc-> 0.931138690091\n",
    "#270components:  xgb train set auc-> 0.935210876013 ///  xgb test set auc-> 0.93123532323\n",
    "#271components:  xgb train set auc-> 0.935210876013 ///  xgb test set auc-> 0.93123532323\n",
    "#272components:  xgb train set auc-> 0.935210876013 ///  xgb test set auc-> 0.93123532323\n",
    "#273components:  xgb train set auc-> 0.935210876013 ///  xgb test set auc-> 0.93123532323\n",
    "#274components:  xgb train set auc-> 0.935160176465 ///  xgb test set auc-> 0.931145834711\n",
    "#275components:  xgb train set auc-> 0.935160176465 ///  xgb test set auc-> 0.931145834711\n",
    "#276components:  xgb train set auc-> 0.935160176465 ///  xgb test set auc-> 0.931145834711\n",
    "#277components:  xgb train set auc-> 0.934360377848 ///  xgb test set auc-> 0.93020431665\n",
    "#278components:  xgb train set auc-> 0.934360377848 ///  xgb test set auc-> 0.93020431665\n",
    "#279components:  xgb train set auc-> 0.934360377848 ///  xgb test set auc-> 0.93020431665\n",
    "#280components:  xgb train set auc-> 0.934360377848 ///  xgb test set auc-> 0.93020431665\n",
    "#281components:  xgb train set auc-> 0.934357766202 ///  xgb test set auc-> 0.930216802985\n",
    "#282components:  xgb train set auc-> 0.934357766202 ///  xgb test set auc-> 0.930216802985\n",
    "#283components:  xgb train set auc-> 0.934360403049 ///  xgb test set auc-> 0.930215069191\n",
    "#284components:  xgb train set auc-> 0.934360403049 ///  xgb test set auc-> 0.930215069191\n",
    "#285components:  xgb train set auc-> 0.934360403049 ///  xgb test set auc-> 0.930215069191\n",
    "#286components:  xgb train set auc-> 0.934360403049 ///  xgb test set auc-> 0.930215069191\n",
    "#287components:  xgb train set auc-> 0.934360403049 ///  xgb test set auc-> 0.930215069191\n",
    "#288components:  xgb train set auc-> 0.934360403049 ///  xgb test set auc-> 0.930215069191\n",
    "#289components:  xgb train set auc-> 0.934360403049 ///  xgb test set auc-> 0.930215069191\n",
    "#290components:  xgb train set auc-> 0.934360403049 ///  xgb test set auc-> 0.930215069191\n",
    "#291components:  xgb train set auc-> 0.934360403049 ///  xgb test set auc-> 0.930215069191\n",
    "#292components:  xgb train set auc-> 0.934360403049 ///  xgb test set auc-> 0.930215069191\n",
    "#293components:  xgb train set auc-> 0.934356573314 ///  xgb test set auc-> 0.930201009917\n",
    "#294components:  xgb train set auc-> 0.934357276125 ///  xgb test set auc-> 0.930201514815\n",
    "#295components:  xgb train set auc-> 0.934050002309 ///  xgb test set auc-> 0.930190865789\n",
    "#296components:  xgb train set auc-> 0.934050002309 ///  xgb test set auc-> 0.930190865789\n",
    "#297components:  xgb train set auc-> 0.934050002309 ///  xgb test set auc-> 0.930190865789\n",
    "#298components:  xgb train set auc-> 0.934050002309 ///  xgb test set auc-> 0.930190865789\n",
    "#299components:  xgb train set auc-> 0.934050002309 ///  xgb test set auc-> 0.930190865789\n",
    "#300components:  xgb train set auc-> 0.934050002309 ///  xgb test set auc-> 0.930190865789\n",
    "#301components:  xgb train set auc-> 0.934050002309 ///  xgb test set auc-> 0.930190865789\n",
    "#302components:  xgb train set auc-> 0.934051476295 ///  xgb test set auc-> 0.930190615603\n",
    "#303components:  xgb train set auc-> 0.934248999054 ///  xgb test set auc-> 0.930209689148\n",
    "#304components:  xgb train set auc-> 0.934248999054 ///  xgb test set auc-> 0.930209689148\n",
    "#305components:  xgb train set auc-> 0.934248999054 ///  xgb test set auc-> 0.930209689148\n",
    "#306components:  xgb train set auc-> 0.934248999054 ///  xgb test set auc-> 0.930209689148\n",
    "#307components:  xgb train set auc-> 0.934248999054 ///  xgb test set auc-> 0.930209689148\n",
    "#308components:  xgb train set auc-> 0.934175668815 ///  xgb test set auc-> 0.930163001651\n",
    "#309components:  xgb train set auc-> 0.934175668815 ///  xgb test set auc-> 0.930163001651\n",
    "#310components:  xgb train set auc-> 0.934175668815 ///  xgb test set auc-> 0.930163001651\n",
    "#311components:  xgb train set auc-> 0.934175668815 ///  xgb test set auc-> 0.930163001651\n",
    "#312components:  xgb train set auc-> 0.934175668815 ///  xgb test set auc-> 0.930163001651\n",
    "#313components:  xgb train set auc-> 0.934175668815 ///  xgb test set auc-> 0.930163001651\n",
    "#314components:  xgb train set auc-> 0.934175668815 ///  xgb test set auc-> 0.930163001651\n",
    "#315components:  xgb train set auc-> 0.934175668815 ///  xgb test set auc-> 0.930163001651\n"
   ]
  },
  {
   "cell_type": "code",
   "execution_count": null,
   "metadata": {
    "collapsed": false
   },
   "outputs": [],
   "source": [
    "#grid search\n",
    "\n",
    "\n",
    "def xgb_gridsearch(xt,yt):\n",
    "    param_grid ={ 'gamma': [0.0,0.1,0.2],  \n",
    "                 'max_depth' : [1,2,3,4,5,6,7,8,9,10,11,12,13,14,15,16,17,18]      ,    \n",
    "                 'min_child_weight': [0,1,2,3],      \n",
    "                 'max_delta_step': [0,1,2,3],          \n",
    "                 'subsample': [0.5,0.6,0.7,0.8,0.9,1.0],                 \n",
    "                 'colsample_bytree': [0.5,0.6,0.7,0.8,0.9,1.0],     \n",
    "                }\n",
    "    \n",
    "    \n",
    "    extreme=xgb.XGBClassifier()\n",
    "      \n",
    "    grid=GridSearchCV(estimator=extreme,param_grid=param_grid,scoring=\"roc_auc\", n_jobs=-1, cv=3)  \n",
    "    \n",
    "    grid_train = grid.fit(xt,yt)\n",
    "\n",
    "    print(grid.best_params_)\n",
    "\n",
    "xgb_gridsearch(xt=x_train_pca,yt=y_train)\n",
    "xgb_gridsearch(xt=x_traincv_pca,yt=y_traincv_pca)\n",
    "xgb_gridsearch(xt=x_train_pca[:,0:225],yt=y_train)\n",
    "xgb_gridsearch(xt=x_traincv_pca[:,0:225],yt=y_traincv_pca)\n"
   ]
  },
  {
   "cell_type": "code",
   "execution_count": null,
   "metadata": {
    "collapsed": true
   },
   "outputs": [],
   "source": []
  },
  {
   "cell_type": "code",
   "execution_count": null,
   "metadata": {
    "collapsed": false
   },
   "outputs": [],
   "source": [
    "#identify optimal parameters\n",
    "subsample_list=[0.5,0.6,0.7,0.8,0.9,1.0]\n",
    "max_depth_list= [1,2,3,4,5,6,7,8,9,10,11,12,13,14,15,16]\n",
    "colsample_bytree_list= [0.2,0.3,0.4,0.5,0.6,0.7,0.8,0.9,1.0]\n",
    "\n",
    "def xg_paraml(label,x_train,y_train,x_test):\n",
    "\n",
    "    for ss in subsample_list:\n",
    "        for md in max_depth_list:\n",
    "            for cb in colsample_bytree_list:\n",
    "                xgb_train_data = xgb.DMatrix(x_train, np.array(y_train ))\n",
    "                xgb_test_data=xgb.DMatrix(x_test)\n",
    "                params={'objective':'binary:logistic','eval_metric' : 'auc',#'eta': 0.01 ,\n",
    "                        'subsample':ss, 'max_depth':md, 'colsample_bytree':cb}\n",
    "                xgb_estimator = xgb.train(params, xgb_train_data)#, num_boost_round= 800)\n",
    "                pred=xgb_estimator.predict(xgb_train_data)\n",
    "                pred_test=xgb_estimator.predict(xgb_test_data)\n",
    "                roc_tr=roc_auc_score(y_train, pred)\n",
    "                roc_te=roc_auc_score(y_testcv_pca, pred_test)\n",
    "                print(label+ str(roc_tr) + '   '+str(roc_te) +' subsample '+str(ss)+' max_depth '+str(md)+' colsample '+str(cb))\n",
    "\n",
    "\n",
    "xg_paraml(label=' cv ', x_train=x_traincv_pca[:,0:225],y_train=y_traincv_pca,x_test=x_testcv_pca[:,0:225])\n"
   ]
  },
  {
   "cell_type": "markdown",
   "metadata": {},
   "source": [
    "output:\n",
    "\n",
    " #cv 0.966336648087   0.940667030261 subsample 1.0 max_depth 10 colsample 0.8\n",
    " #cv 0.984145057613   0.940416722613 subsample 1.0 max_depth 12 colsample 0.8\n",
    " #cv 0.966123416445   0.940113853694 subsample 1.0 max_depth 10 colsample 0.9\n",
    " #cv 0.963186506665   0.940041301129 subsample 0.9 max_depth 10 colsample 0.9\n"
   ]
  },
  {
   "cell_type": "code",
   "execution_count": null,
   "metadata": {
    "collapsed": false
   },
   "outputs": [],
   "source": [
    "#Perform Cross Validation using parameters\n",
    "sub xg_cv_param(x_train,y_train,x_test,parameters):\n",
    "    #xgb parameters\n",
    "    params = parameters\n",
    "    \n",
    "    #train input matrix\n",
    "    xgb_train_data = xgb.DMatrix(x_train, y_train)\n",
    "    xgb_test_data  = xgb.DMatrix(x_test)\n",
    "\n",
    "    xgb_estimator = xgb.train(params, xgb_train_data, num_boost_round= 800)\n",
    "\n",
    "    train_pred=xgb_estimator.predict(xgb_train_data)\n",
    "    test_pred =xgb_estimator.predict(xgb_test_data)\n",
    "\n",
    "    xgb_train_auc=roc_auc_score(y_train, train_pred)\n",
    "    xgb_test_auc =roc_auc_score(y_testcv, test_pred)\n",
    "\n",
    "    print(xgb_train_auc)\n",
    "    print(xgb_test_auc)\n",
    "\n",
    "xg_cv_param(x_train=x_train_pca[:,0:225],y_train=y_train_pca,x_test=x_test_pca[:,0:225],\n",
    "         parameters={'objective':'binary:logistic','eval_metric' : 'auc','eta': 0.01 ,\n",
    "            \"subsample\" :[0.2,0.3,0.4,0.5,0.6,0.7,0.8,0.9,1.0],\n",
    "               \"max_depth\": [1,2,3,4,5,6,7,8,9,10,11,12,13,14,15,16],\n",
    "              \"colsample_bytree\" : [0.2,0.3,0.4,0.5,0.6,0.7,0.8,0.9,1.0],\n",
    "              }\n",
    "        ) \n",
    "xg_cv_param(x_train=x_train_pca[:,0:225],y_train=y_train_pca,x_test=x_test_pca[:,0:225],\n",
    "         parameters={'objective':'binary:logistic','eval_metric' : 'auc','eta': 0.01 ,\n",
    "            \"subsample\" :[0.2,0.3,0.4,0.5,0.6,0.7,0.8,0.9,1.0],\n",
    "               \"max_depth\": [1,2,3,4,5,6,7,8,9,10,11,12,13,14,15,16],\n",
    "              \"colsample_bytree\" : [0.2,0.3,0.4,0.5,0.6,0.7,0.8,0.9,1.0],\n",
    "              }\n",
    "        ) "
   ]
  },
  {
   "cell_type": "code",
   "execution_count": null,
   "metadata": {
    "collapsed": false
   },
   "outputs": [],
   "source": [
    "#create submission files\n",
    "#Perform Cross Validation using parameters\n",
    "def xg_sub(label,x_train,y_train,x_test,parameters):\n",
    "    #xgb parameters\n",
    "    params = parameters\n",
    "    \n",
    "    #train input matrix\n",
    "    xgb_train_data = xgb.DMatrix(x_train, y_train)\n",
    "    xgb_test_data  = xgb.DMatrix(x_test)\n",
    "\n",
    "    xgb_estimator = xgb.train(params, xgb_train_data, num_boost_round= 2001)\n",
    "\n",
    "    train_pred=xgb_estimator.predict(xgb_train_data)\n",
    "    test_pred =xgb_estimator.predict(xgb_test_data)\n",
    "\n",
    "    xgb_train_auc=roc_auc_score(y_train, train_pred)\n",
    "\n",
    "    print(xgb_train_auc)\n",
    "\n",
    "    submission_xg = pd.DataFrame(columns=['QuoteNumber','QuoteConversion_Flag'])\n",
    "    submission_xg['QuoteNumber']          = test_df['QuoteNumber']\n",
    "    submission_xg['QuoteConversion_Flag'] = test_pred\n",
    "    submission_xg.to_csv('homesite_xg_' + label + '.csv', index=False)\n",
    "    \n",
    "    "
   ]
  },
  {
   "cell_type": "code",
   "execution_count": null,
   "metadata": {
    "collapsed": true
   },
   "outputs": [],
   "source": [
    "xg_sub(label=' 1 10 0.8 225 ', x_train=x_train_pca[:,0:225], y_train=y_train, x_test = x_test_pca[:,0:225],\n",
    "         parameters={'objective':'binary:logistic','eval_metric' : 'auc','eta': 0.01 ,\n",
    "            \"subsample\" :1.0,\n",
    "               \"max_depth\": 10,\n",
    "              \"colsample_bytree\" : 0.8,\n",
    "              }\n",
    "        ) "
   ]
  },
  {
   "cell_type": "code",
   "execution_count": null,
   "metadata": {
    "collapsed": true
   },
   "outputs": [],
   "source": [
    "xg_sub(label=' 1 16 0.8 225 ', x_train=x_train_pca[:,0:225], y_train=y_train, x_test = x_test_pca[:,0:225],\n",
    "         parameters={'objective':'binary:logistic','eval_metric' : 'auc','eta': 0.01 ,\n",
    "            \"subsample\" :1.0,\n",
    "               \"max_depth\": 16,\n",
    "              \"colsample_bytree\" : 0.8,\n",
    "              }\n",
    "        ) "
   ]
  },
  {
   "cell_type": "code",
   "execution_count": null,
   "metadata": {
    "collapsed": false
   },
   "outputs": [],
   "source": [
    "xg_sub(label=' 1 10 0.8 194 ', x_train=x_train_pca[:,0:194], y_train=y_train, x_test = x_test_pca[:,0:194],\n",
    "         parameters={'objective':'binary:logistic','eval_metric' : 'auc','eta': 0.01 ,\n",
    "            \"subsample\" :1.0,\n",
    "               \"max_depth\": 10,\n",
    "              \"colsample_bytree\" : 0.8,\n",
    "              })"
   ]
  },
  {
   "cell_type": "code",
   "execution_count": null,
   "metadata": {
    "collapsed": false
   },
   "outputs": [],
   "source": [
    "xg_sub(label=' 1 10 0.8 269 ', x_train=x_train_pca[:,0:269], y_train=y_train, x_test = x_test_pca[:,0:269],\n",
    "         parameters={'objective':'binary:logistic','eval_metric' : 'auc','eta': 0.01 ,\n",
    "            \"subsample\" :1.0,\n",
    "               \"max_depth\": 10,\n",
    "              \"colsample_bytree\" : 0.8,\n",
    "              })"
   ]
  },
  {
   "cell_type": "code",
   "execution_count": null,
   "metadata": {
    "collapsed": false
   },
   "outputs": [],
   "source": [
    "xg_sub(label=' 1 10 0.8 447 ', x_train=x_train_pca[:,0:447], y_train=y_train, x_test = x_test_pca[:,0:447],\n",
    "         parameters={'objective':'binary:logistic','eval_metric' : 'auc','eta': 0.01 ,\n",
    "            \"subsample\" :1.0,\n",
    "               \"max_depth\": 10,\n",
    "              \"colsample_bytree\" : 0.8,\n",
    "              })"
   ]
  },
  {
   "cell_type": "code",
   "execution_count": null,
   "metadata": {
    "collapsed": false
   },
   "outputs": [],
   "source": [
    "xg_sub(label=' 1 10 0.8 175 ', x_train=x_train_pca[:,0:175], y_train=y_train, x_test = x_test_pca[:,0:175],\n",
    "         parameters={'objective':'binary:logistic','eval_metric' : 'auc','eta': 0.01 ,\n",
    "            \"subsample\" :1.0,\n",
    "               \"max_depth\": 10,\n",
    "              \"colsample_bytree\" : 0.8,\n",
    "              })"
   ]
  },
  {
   "cell_type": "code",
   "execution_count": null,
   "metadata": {
    "collapsed": false
   },
   "outputs": [],
   "source": [
    "xg_sub(label=' 1 10 0.8 163 ', x_train=x_train_pca[:,0:163], y_train=y_train, x_test = x_test_pca[:,0:163],\n",
    "         parameters={'objective':'binary:logistic','eval_metric' : 'auc','eta': 0.01 ,\n",
    "            \"subsample\" :1.0,\n",
    "               \"max_depth\": 10,\n",
    "              \"colsample_bytree\" : 0.8,\n",
    "              })"
   ]
  },
  {
   "cell_type": "markdown",
   "metadata": {},
   "source": [
    "********************************************\n",
    "Random Forest Classifier\n",
    "********************************************"
   ]
  },
  {
   "cell_type": "code",
   "execution_count": null,
   "metadata": {
    "collapsed": false
   },
   "outputs": [],
   "source": [
    "#As a starting point, we will looks for a potential set of optimal parameters to train and test with\n",
    "\n",
    "#function to \n",
    "def rf_params(xt,yt):\n",
    "    param_grid ={ \"criterion\" :['gini','entropy'],\n",
    "              \"max_depth\": [1,2,3,4,5,6,7,8,9,10,11,12,13,14,15,16,17,18,19,20,21,22,23,24],\n",
    "              \"min_samples_split\" : [1,2,3,4,5,6,7,8,9,10,11,12]      ,\n",
    "             \"min_samples_leaf\": [1,2,3,4,5,6,7,8,9,10,11,12],\n",
    "                 min_weight_fraction_leaf\n",
    "            }\n",
    "\n",
    "    rf=RandomForestClassifier()\n",
    "\n",
    "    grid=RandomizedSearchCV(estimator=rf, param_distributions=param_grid,scoring=\"roc_auc\", n_jobs=-1, cv=2,n_iter=40)\n",
    "\n",
    "    grid_train = grid.fit(xt,yt)\n",
    "\n",
    "    print(grid.best_params_)\n",
    "\n",
    "rf_params(xt=x_train,yt=y_train)\n",
    "rf_params(xt=x_traincv,yt=y_traincv)"
   ]
  },
  {
   "cell_type": "markdown",
   "metadata": {},
   "source": [
    "output:\n",
    "\n",
    "Full training parameters:\n",
    "{'criterion': 'gini', 'max_depth': 16, 'min_samples_split': 9, 'min_samples_leaf': 6}\n",
    "\n",
    "Train/test parameters:\n",
    "{'criterion': 'gini', 'max_depth': 18, 'min_samples_leaf': 8, 'min_samples_split': 1}\n"
   ]
  },
  {
   "cell_type": "code",
   "execution_count": null,
   "metadata": {
    "collapsed": false
   },
   "outputs": [],
   "source": [
    "#random forecast for train and test sets\n",
    "def rf(label,\n",
    "       x_train,\n",
    "       y_train,\n",
    "       x_test,\n",
    "       y_test,\n",
    "       criterion,\n",
    "       max_depth,\n",
    "       min_samples_split,\n",
    "       min_samples_leaf):\n",
    "\n",
    "    my_rf_model = RandomForestClassifier(criterion=criterion,\n",
    "                                         n_estimators=10,\n",
    "                                         n_jobs=-1,\n",
    "                                         #oob_score=True,\n",
    "                                         max_depth=max_depth,\n",
    "                                         min_samples_split=min_samples_split,\n",
    "                                         min_samples_leaf=min_samples_leaf)\n",
    "    my_rf_model_fit = my_rf_model.fit(x_train, y_train)\n",
    "\n",
    "    y_pred_train = pd.DataFrame(my_rf_model_fit.predict_proba(x_train))\n",
    "    y_pred_test  = pd.DataFrame(my_rf_model_fit.predict_proba(x_test))\n",
    "\n",
    "    roc_train = roc_auc_score(y_train, y_pred_train[1])\n",
    "    roc_test  = roc_auc_score(y_test, y_pred_test[1])\n",
    "    \n",
    "    print(label + ' train 1 '+ str(roc_train))\n",
    "    print(label + ' test 1 ' + str(roc_test))\n",
    "\n",
    "    #Predict and score train and test data, adjust parameters where train and test are consistent\n",
    "rf(label='par_cv_params ',x_train=x_traincv,y_train=y_traincv,x_test=x_testcv,y_test=y_testcv,\n",
    "   criterion='gini',max_depth=12,min_samples_split=6,min_samples_leaf=4)\n",
    "rf(label='par_tr_params ',x_train=x_traincv,y_train=y_traincv,x_test=x_testcv,y_test=y_testcv,\n",
    "   criterion='gini',max_depth=12,min_samples_split=1,min_samples_leaf=4)"
   ]
  },
  {
   "cell_type": "markdown",
   "metadata": {},
   "source": [
    "par_cv_params  train 1 0.955112676199\n",
    "par_cv_params  test 1 0.943520670536\n",
    "par_tr_params  train 1 0.956989185373\n",
    "par_tr_params  test 1 0.945370386727"
   ]
  },
  {
   "cell_type": "code",
   "execution_count": null,
   "metadata": {
    "collapsed": false
   },
   "outputs": [],
   "source": [
    "#random forecast for submission\n",
    "def rf_sub(label,\n",
    "       x_train,\n",
    "       y_train,\n",
    "       x_test,\n",
    "       criterion,\n",
    "       max_depth,\n",
    "       min_samples_split,\n",
    "       min_samples_leaf):\n",
    "\n",
    "    my_rf_model = RandomForestClassifier(criterion=criterion,\n",
    "                                         n_estimators=1000,\n",
    "                                         n_jobs=-1,\n",
    "                                         #oob_score=True,\n",
    "                                         max_depth=max_depth,\n",
    "                                         min_samples_split=min_samples_split,\n",
    "                                         min_samples_leaf=min_samples_leaf)\n",
    "    my_rf_model_fit = my_rf_model.fit(x_train, y_train)\n",
    "\n",
    "    y_pred_train = pd.DataFrame(my_rf_model_fit.predict_proba(x_train))\n",
    "    y_pred_test  = pd.DataFrame(my_rf_model_fit.predict_proba(x_test))\n",
    "\n",
    "    roc_train = roc_auc_score(y_train, y_pred_train[1])\n",
    "    \n",
    "    submission_rf = pd.DataFrame(columns=['QuoteNumber','QuoteConversion_Flag'])\n",
    "    submission_rf['QuoteNumber']          = test_df['QuoteNumber']\n",
    "    submission_rf['QuoteConversion_Flag'] = y_pred_test\n",
    "    submission_rf.to_csv('homesite_rf_' + label + '.csv', index=False)\n",
    "\n",
    "    print(roc_train)\n",
    "    \n",
    "#Once parameters are finalized, create a submission file\n",
    "rf_sub(label='par_cv_1 sub ',x_train=x_train,y_train=y_train,x_test=x_test,\n",
    "   criterion='gini',max_depth=12,min_samples_split=6,min_samples_leaf=4)\n",
    "rf_sub(label='par_cv_2 sub ',x_train=x_train,y_train=y_train,x_test=x_test,\n",
    "   criterion='gini',max_depth=12,min_samples_split=1,min_samples_leaf=4)"
   ]
  },
  {
   "cell_type": "markdown",
   "metadata": {},
   "source": [
    "output:\n",
    "\n",
    "0.95920886724\n",
    "0.959039980251"
   ]
  },
  {
   "cell_type": "markdown",
   "metadata": {
    "collapsed": true
   },
   "source": [
    "\n",
    "****************************************************\n",
    "                      EDA\n",
    "****************************************************\n"
   ]
  },
  {
   "cell_type": "code",
   "execution_count": null,
   "metadata": {
    "collapsed": false
   },
   "outputs": [],
   "source": [
    "# How many columns....what are the data types....how many instances\n",
    "\n",
    "homesite_df.info()\n",
    "print(\"----------------------------\")\n",
    "test_df.info()"
   ]
  },
  {
   "cell_type": "code",
   "execution_count": null,
   "metadata": {
    "collapsed": false
   },
   "outputs": [],
   "source": [
    "# preview the data\n",
    "\n",
    "pd.options.display.max_columns = 500 # view all columns\n",
    "homesite_df.head()"
   ]
  },
  {
   "cell_type": "code",
   "execution_count": null,
   "metadata": {
    "collapsed": false
   },
   "outputs": [],
   "source": [
    "#  Basic Stats\n",
    "\n",
    "bstats = homesite_df.describe(percentiles=[0.01,0.99], include='all')\n",
    "bstats.to_csv(\"describe_train.csv\")"
   ]
  },
  {
   "cell_type": "code",
   "execution_count": null,
   "metadata": {
    "collapsed": true
   },
   "outputs": [],
   "source": [
    "#pearson correlation coefficient\n",
    "all_corr = homesite_df.loc[ : ,homesite_df.columns]\n",
    "\n",
    "all_corr.to_csv(\"corr_field6_12.csv\")\n"
   ]
  },
  {
   "cell_type": "code",
   "execution_count": null,
   "metadata": {
    "collapsed": false
   },
   "outputs": [],
   "source": [
    "# examine the correlations across the variables before we begin modeling\n",
    "# when using linear models, what to look for potential multi-collinearity issues\n",
    "#sales field\n",
    "sales_field_df_vars = homesite_df.loc[ : ,['SalesField2B','SalesField2A','SalesField1B','SalesField1A','SalesField15',\n",
    "                                           'SalesField14','SalesField13','SalesField12','SalesField11']]\n",
    "\n",
    "axes=scatter_matrix(sales_field_df_vars,alpha=0.2, figsize=(24, 24), diagonal='hist')\n",
    "\n",
    "corr = sales_field_df_vars.corr().as_matrix()\n",
    "for i, j in zip(*plt.np.triu_indices_from(axes, k=1)):\n",
    "    axes[i, j].annotate(\"%.3f\" %corr[i,j], (0.8, 0.8), xycoords='axes fraction', ha='center', va='center') \n",
    "    "
   ]
  },
  {
   "cell_type": "code",
   "execution_count": null,
   "metadata": {
    "collapsed": false
   },
   "outputs": [],
   "source": [
    "# examine the correlations across the variables before we begin modeling\n",
    "# when using linear models, what to look for potential multi-collinearity issues\n",
    "#coverage\n",
    "coverage_df_vars = homesite_df.loc[ : ,['CoverageField6B','CoverageField6A','CoverageField4B','CoverageField4A',\n",
    "                                        'CoverageField3B','CoverageField3A','CoverageField2B','CoverageField2A',\n",
    "                                        'CoverageField1B','CoverageField1A','CoverageField11B','CoverageField11A',]]\n",
    "\n",
    "axes=scatter_matrix(coverage_df_vars,alpha=0.2, figsize=(24, 24), diagonal='hist')\n",
    "\n",
    "corr = coverage_df_vars.corr().as_matrix()\n",
    "for i, j in zip(*plt.np.triu_indices_from(axes, k=1)):\n",
    "    axes[i, j].annotate(\"%.3f\" %corr[i,j], (0.8, 0.8), xycoords='axes fraction', ha='center', va='center')"
   ]
  },
  {
   "cell_type": "code",
   "execution_count": null,
   "metadata": {
    "collapsed": false
   },
   "outputs": [],
   "source": [
    "#property Variable Scatterplot Matrix\n",
    "\n",
    "property_df_vars_chart = homesite_df.loc[ : ,['PropertyField4','PropertyField39B','PropertyField39A','PropertyField3',\n",
    "                                              'PropertyField26B','PropertyField26A','PropertyField24B','PropertyField24A',\n",
    "                                              'PropertyField21B','PropertyField21A','PropertyField1B','PropertyField1A',\n",
    "                                              'PropertyField16B','PropertyField16A',]]\n",
    "\n",
    "axes=scatter_matrix(property_df_vars_chart,alpha=0.2, figsize=(24, 24), diagonal='hist')\n",
    "\n",
    "corr = property_df_vars_chart.corr().as_matrix()\n",
    "for i, j in zip(*plt.np.triu_indices_from(axes, k=1)):\n",
    "    axes[i, j].annotate(\"%.3f\" %corr[i,j], (0.8, 0.8), xycoords='axes fraction', ha='center', va='center')"
   ]
  },
  {
   "cell_type": "code",
   "execution_count": null,
   "metadata": {
    "collapsed": false,
    "scrolled": true
   },
   "outputs": [],
   "source": [
    "#Coverage Variable Scatterplot Matrix\n",
    "\n",
    "coverage_property_df_vars_chart = homesite_df.loc[ : ,['CoverageField1A','CoverageField1B','CoverageField2A','CoverageField2B',\n",
    "                                              'CoverageField3A','CoverageField3B','CoverageField4A','CoverageField4B',\n",
    "                                              'PropertyField21A','PropertyField21B','PropertyField24A','PropertyField24B']]\n",
    "\n",
    "axes=scatter_matrix(coverage_property_df_vars_chart,alpha=0.2, figsize=(24, 24), diagonal='hist')\n",
    "corr = coverage_property_df_vars_chart.corr().as_matrix()\n",
    "for i, j in zip(*plt.np.triu_indices_from(axes, k=1)):\n",
    "    axes[i, j].annotate(\"%.3f\" %corr[i,j], (0.8, 0.8), xycoords='axes fraction', ha='center', va='center')"
   ]
  },
  {
   "cell_type": "code",
   "execution_count": null,
   "metadata": {
    "collapsed": false
   },
   "outputs": [],
   "source": [
    "#Coverage Variable Scatterplot Matrix\n",
    "\n",
    "field_geo_df_vars_chart = homesite_df.loc[ : ,['Field10','Field11','Field6','Field9','GeographicField11A',\n",
    "                                                       'GeographicField11B','GeographicField12A','GeographicField12B',\n",
    "                                                       'GeographicField13A','GeographicField13B','GeographicField14B',\n",
    "                                                       'GeographicField15A','GeographicField15B','GeographicField16A',\n",
    "                                                       'GeographicField16B','GeographicField17B','GeographicField20A',\n",
    "                                                       'GeographicField20B','GeographicField23B','GeographicField64',\n",
    "                                                       'GeographicField6A','GeographicField6B','GeographicField7A',\n",
    "                                                       'GeographicField7B','GeographicField8A','GeographicField8B',\n",
    "                                                       'GeographicField9A','GeographicField9B']]\n",
    "\n",
    "axes=scatter_matrix(field_geo_df_vars_chart,alpha=0.2, figsize=(24, 24), diagonal='hist')\n",
    "corr = field_geo_df_vars_chart.corr().as_matrix()\n",
    "for i, j in zip(*plt.np.triu_indices_from(axes, k=1)):\n",
    "    axes[i, j].annotate(\"%.3f\" %corr[i,j], (0.8, 0.8), xycoords='axes fraction', ha='center', va='center')"
   ]
  },
  {
   "cell_type": "code",
   "execution_count": null,
   "metadata": {
    "collapsed": false
   },
   "outputs": [],
   "source": [
    "# examine the correlations across the variables before we begin modeling\n",
    "# when using linear models, what to look for potential multi-collinearity issues\n",
    "#personal\n",
    "\n",
    "Personal_df_vars = homesite_df.loc[ : ,['PersonalField84','PersonalField83','PersonalField82','PersonalField81',\n",
    "                                          'PersonalField80','PersonalField79','PersonalField78','PersonalField77',\n",
    "                                          'PersonalField76','PersonalField75','PersonalField74','PersonalField73',\n",
    "                                          'PersonalField72','PersonalField71','PersonalField70','PersonalField69',\n",
    "                                          'PersonalField68','PersonalField67','PersonalField66','PersonalField65',\n",
    "                                          'PersonalField64','PersonalField63','PersonalField62','PersonalField61',\n",
    "                                          'PersonalField60','PersonalField6','PersonalField59','PersonalField58',\n",
    "                                          'PersonalField57','PersonalField56','PersonalField55','PersonalField54',\n",
    "                                          'PersonalField53','PersonalField52','PersonalField51','PersonalField50',\n",
    "                                          'PersonalField5','PersonalField4B','PersonalField4A','PersonalField49',\n",
    "                                          'PersonalField48','PersonalField47','PersonalField46','PersonalField45',\n",
    "                                          'PersonalField44','PersonalField43','PersonalField42','PersonalField41',\n",
    "                                          'PersonalField40','PersonalField39','PersonalField38',\n",
    "                                          'PersonalField37','PersonalField36','PersonalField35','PersonalField34',\n",
    "                                          'PersonalField33','PersonalField32','PersonalField31',\n",
    "                                          'PersonalField30','PersonalField29',\n",
    "                                          'PersonalField28','PersonalField27','PersonalField26','PersonalField25',\n",
    "                                          'PersonalField24','PersonalField23','PersonalField22','PersonalField2',\n",
    "                                          'PersonalField15','PersonalField12','PersonalField10B','PersonalField10A',\n",
    "                                          'PersonalField1']]\n",
    "\n",
    "axes=scatter_matrix(Personal_df_vars,alpha=0.2, figsize=(24, 24), diagonal='hist')\n",
    "\n",
    "corr = Personal_df_vars.corr().as_matrix()\n",
    "for i, j in zip(*plt.np.triu_indices_from(axes, k=1)):\n",
    "    axes[i, j].annotate(\"%.3f\" %corr[i,j], (0.8, 0.8), xycoords='axes fraction', ha='center', va='center')\n"
   ]
  }
 ],
 "metadata": {
  "kernelspec": {
   "display_name": "Python 3",
   "language": "python",
   "name": "python3"
  },
  "language_info": {
   "codemirror_mode": {
    "name": "ipython",
    "version": 3
   },
   "file_extension": ".py",
   "mimetype": "text/x-python",
   "name": "python",
   "nbconvert_exporter": "python",
   "pygments_lexer": "ipython3",
   "version": "3.5.1"
  }
 },
 "nbformat": 4,
 "nbformat_minor": 0
}
